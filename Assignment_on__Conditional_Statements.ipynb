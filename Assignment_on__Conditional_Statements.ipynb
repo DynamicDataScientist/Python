{
  "nbformat": 4,
  "nbformat_minor": 0,
  "metadata": {
    "colab": {
      "provenance": []
    },
    "kernelspec": {
      "name": "python3",
      "display_name": "Python 3"
    },
    "language_info": {
      "name": "python"
    }
  },
  "cells": [
    {
      "cell_type": "markdown",
      "source": [
        "Take three numbers 'x', 'y' and 'z' as input from the user and check which number is greater\n"
      ],
      "metadata": {
        "id": "AcR_27Hh5QTe"
      }
    },
    {
      "cell_type": "code",
      "source": [
        "a=int (input(\"Enter value of A \"))\n",
        "b=int (input(\"Enter value of B \"))\n",
        "c=int (input(\"Enter value of C \"))\n",
        "if a>b and a>c:\n",
        "    print(\"A is greater\")\n",
        "elif b>a and b>c:\n",
        "    print(\"B is greater\")\n",
        "else:\n",
        "    print(\"C is greater\")"
      ],
      "metadata": {
        "id": "ZqmjTxbD5QG4",
        "colab": {
          "base_uri": "https://localhost:8080/"
        },
        "outputId": "0e29b46e-8245-480c-9865-6cf2a294b65d"
      },
      "execution_count": 3,
      "outputs": [
        {
          "output_type": "stream",
          "name": "stdout",
          "text": [
            "Enter value of A 120\n",
            "Enter value of B 204\n",
            "Enter value of C 233\n",
            "C is greater\n"
          ]
        }
      ]
    },
    {
      "cell_type": "markdown",
      "source": [
        "Take an alphabet as input from the user and check if the alphabet is a vowel, consonant or an exception\n",
        "\n",
        "\n",
        "Vowel - 'a','e','i','o','u'\n",
        "\n",
        "Exception - 'h', 'y'\n",
        "\n",
        "Consonant - rest other alphabets"
      ],
      "metadata": {
        "id": "QgkCsQlx4c5Y"
      }
    },
    {
      "cell_type": "code",
      "source": [
        "str=input(\"Enter a char:\")\n",
        "if str=='a' or str=='e' or str=='i' or str=='o' or str=='u':\n",
        "    print(\"Vowel\")\n",
        "elif str=='h' or str=='y':\n",
        "    print(\"Exception\")\n",
        "else:\n",
        "    print(\"Consonant\")"
      ],
      "metadata": {
        "id": "mTRgMPbt4dTk",
        "colab": {
          "base_uri": "https://localhost:8080/"
        },
        "outputId": "d3238bd7-6a7c-400e-92e7-453b99955b86"
      },
      "execution_count": 5,
      "outputs": [
        {
          "output_type": "stream",
          "name": "stdout",
          "text": [
            "Enter a char:a\n",
            "Vowel\n"
          ]
        }
      ]
    },
    {
      "cell_type": "markdown",
      "source": [
        "Write a program to check whether a number given by a user is divisible by 2 and 3 both"
      ],
      "metadata": {
        "id": "5TqcIsuG4N4x"
      }
    },
    {
      "cell_type": "code",
      "source": [
        "num=int(input(\"Enter a Num:\"))\n",
        "if num%2==0 and num%3==0:\n",
        "    print(\"Divisible\")\n",
        "else:\n",
        "    print(\"Not Divisible\")"
      ],
      "metadata": {
        "id": "1TobEmuY4NkT",
        "colab": {
          "base_uri": "https://localhost:8080/"
        },
        "outputId": "9eb6b189-3861-40c8-d34f-3cbce464677a"
      },
      "execution_count": 7,
      "outputs": [
        {
          "output_type": "stream",
          "name": "stdout",
          "text": [
            "Enter a Num:30\n",
            "Divisible\n"
          ]
        }
      ]
    },
    {
      "cell_type": "markdown",
      "source": [
        "Write a program to accept the cost price  of a bike as input and display the road tax to be paid according to the following crieteria :-\n",
        "\n",
        "Cost price - 100000 Tax - 15%\n",
        "\n",
        "Cost price - between 50000 to 100000 Tax - 10%\n",
        "\n",
        "Cost price - less than 50000 Tax - 5%"
      ],
      "metadata": {
        "id": "Vl0l7eM93o-k"
      }
    },
    {
      "cell_type": "code",
      "source": [
        "price=int(input(\"Enter the bike price:\"))\n",
        "if price>=100000:\n",
        "    print(\"Tax is 15%\")\n",
        "elif price>=50000 and price<100000:\n",
        "    print(\"Tax is 10%\")\n",
        "else:\n",
        "    print(\"Tax is 5%\")"
      ],
      "metadata": {
        "id": "TdHw-M2Z3lkL",
        "colab": {
          "base_uri": "https://localhost:8080/"
        },
        "outputId": "eea354a6-600c-492d-9243-5c5cfc10ec77"
      },
      "execution_count": 10,
      "outputs": [
        {
          "output_type": "stream",
          "name": "stdout",
          "text": [
            "Enter the bike price:80000\n",
            "Tax is 10%\n"
          ]
        }
      ]
    },
    {
      "cell_type": "markdown",
      "source": [
        "Write a program to calculate the electricity bill by accepting the number of units consumed by the user as input. Use the following price chart for reference :-\n",
        "\n",
        "Price of first 100 units - no charge\n",
        "\n",
        "Price of next 100 units - Rs 5/- per unit\n",
        "\n",
        "After 200 units - Rs 10/- per unit"
      ],
      "metadata": {
        "id": "4qwB-dyV2vdv"
      }
    },
    {
      "cell_type": "code",
      "execution_count": 11,
      "metadata": {
        "id": "9CRK7oBa2rjP",
        "colab": {
          "base_uri": "https://localhost:8080/"
        },
        "outputId": "63113591-afbc-4edf-e2e6-2fc26bd73b3d"
      },
      "outputs": [
        {
          "output_type": "stream",
          "name": "stdout",
          "text": [
            "Enter the units consumed by user:300\n",
            "Rs 10 per unit\n"
          ]
        }
      ],
      "source": [
        "bill=int(input(\"Enter the units consumed by user:\"))\n",
        "if bill<=100:\n",
        "    print(\"No charge\")\n",
        "elif bill<=200:\n",
        "    print(\"Rs 5 per unit\")\n",
        "else:\n",
        "    print(\"Rs 10 per unit\")"
      ]
    }
  ]
}