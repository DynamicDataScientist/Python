{
  "cells": [
    {
      "cell_type": "code",
      "execution_count": null,
      "metadata": {
        "colab": {
          "base_uri": "https://localhost:8080/"
        },
        "id": "hl4ZX5QtKsGy",
        "outputId": "67677cbb-8d5c-4b7b-cffb-97dde57c1622"
      },
      "outputs": [
        {
          "name": "stdout",
          "output_type": "stream",
          "text": [
            "5\n"
          ]
        }
      ],
      "source": [
        "a=5\n",
        "print(a)\n"
      ]
    },
    {
      "cell_type": "code",
      "execution_count": null,
      "metadata": {
        "colab": {
          "base_uri": "https://localhost:8080/"
        },
        "id": "li09VcSdOvP5",
        "outputId": "0db9e406-2a0b-4014-f238-0d2343dacdc5"
      },
      "outputs": [
        {
          "name": "stdout",
          "output_type": "stream",
          "text": [
            "8\n"
          ]
        }
      ],
      "source": [
        "a=5\n",
        "b=3\n",
        "print(a+b)\n"
      ]
    },
    {
      "cell_type": "code",
      "execution_count": null,
      "metadata": {
        "colab": {
          "base_uri": "https://localhost:8080/"
        },
        "id": "42JY8fay8ovj",
        "outputId": "528e5c25-2080-4c34-b9d5-7252893be88d"
      },
      "outputs": [
        {
          "name": "stdout",
          "output_type": "stream",
          "text": [
            "1\n"
          ]
        }
      ],
      "source": [
        "a,b=5,3\n",
        "print(a//b)\n"
      ]
    },
    {
      "cell_type": "code",
      "execution_count": null,
      "metadata": {
        "colab": {
          "base_uri": "https://localhost:8080/"
        },
        "id": "j5_i29VX8_Z8",
        "outputId": "8878149d-bfd8-4d63-f318-769e1e2510d7"
      },
      "outputs": [
        {
          "name": "stdout",
          "output_type": "stream",
          "text": [
            "2\n"
          ]
        }
      ],
      "source": [
        "a,b=5,3\n",
        "print(a%b)"
      ]
    },
    {
      "cell_type": "code",
      "execution_count": null,
      "metadata": {
        "colab": {
          "base_uri": "https://localhost:8080/"
        },
        "id": "A-TR3pGL9TYh",
        "outputId": "51512b01-0f87-4658-ab88-a96123ba78f6"
      },
      "outputs": [
        {
          "name": "stdout",
          "output_type": "stream",
          "text": [
            "1.75\n"
          ]
        }
      ],
      "source": [
        "a=7\n",
        "b=4\n",
        "print(a/b)"
      ]
    },
    {
      "cell_type": "code",
      "execution_count": null,
      "metadata": {
        "colab": {
          "base_uri": "https://localhost:8080/"
        },
        "id": "I0vY0jmbmu_Q",
        "outputId": "6fa517cf-6b44-4608-9963-5f9af4d85560"
      },
      "outputs": [
        {
          "data": {
            "text/plain": [
              "<function print>"
            ]
          },
          "execution_count": 6,
          "metadata": {},
          "output_type": "execute_result"
        }
      ],
      "source": [
        "a=5\n",
        "b=6\n",
        "print"
      ]
    },
    {
      "cell_type": "code",
      "execution_count": null,
      "metadata": {
        "colab": {
          "background_save": true
        },
        "id": "APpfrUnSKDGn",
        "outputId": "b7200259-d4d7-45f5-fabb-7abd3c3d687e"
      },
      "outputs": [
        {
          "name": "stdout",
          "output_type": "stream",
          "text": [
            "+ve\n"
          ]
        }
      ],
      "source": [
        "n=int(input(\"Enter n value \"))\n",
        "if(n>0):\n",
        "  print(\"+ve\")\n",
        "else:\n",
        "  print(\"-ve\")\n"
      ]
    },
    {
      "cell_type": "code",
      "execution_count": null,
      "metadata": {
        "id": "PbmFIb5CQjuf"
      },
      "outputs": [],
      "source": [
        "a=int(input(\"Enter value of a \"))\n",
        "b=int(input(\"Enter value of b \"))\n",
        "c=int(input(\"Enter value of c \"))\n",
        "if(a>b):\n",
        "  if(a>c):\n",
        "    print(\"a is greater\")\n",
        "  else:\n",
        "    print(\"c is greater\")\n",
        "elif(b>c):\n",
        "  print(\"b is greater\")\n",
        "else:\n",
        "  print(\"c is greater\")"
      ]
    },
    {
      "cell_type": "code",
      "execution_count": null,
      "metadata": {
        "id": "BQWZZJ0hRs2l"
      },
      "outputs": [],
      "source": [
        "numbers = [20, 50, 5]\n",
        "smallest = min(numbers)\n",
        "print(f\"The smallest number is: {smallest}\")"
      ]
    },
    {
      "cell_type": "code",
      "execution_count": null,
      "metadata": {
        "id": "qTDzUVmKksTT"
      },
      "outputs": [],
      "source": [
        "a=int(input(\"Enter value of a \"))\n",
        "b=int(input(\"Enter value of b \"))\n",
        "if(a==b):\n",
        "    print(\"Both are equal\")\n",
        "elif(a>b):\n",
        "  print(\"a is greater than b\")\n",
        "else:\n",
        "  print(\"a is less b\")"
      ]
    },
    {
      "cell_type": "code",
      "execution_count": null,
      "metadata": {
        "id": "qi89ZxzWpAhC"
      },
      "outputs": [],
      "source": [
        "#Print 'N' natural numbers\n",
        "n=int(input(\"Enter the number \"))\n",
        "i=0\n",
        "while(i<n):\n",
        "  print(i)\n",
        "  i=i+1\n",
        "print(\"End of the loop\")"
      ]
    },
    {
      "cell_type": "code",
      "execution_count": null,
      "metadata": {
        "id": "Jgupls2mtXjX"
      },
      "outputs": [],
      "source": [
        "n=int(input(\"Enter the number \"))\n",
        "for i in range(0,n,1):\n",
        "  print(i)\n",
        "print(\"End of the loop\")"
      ]
    },
    {
      "cell_type": "code",
      "execution_count": null,
      "metadata": {
        "id": "GgTfCjmAJM3o"
      },
      "outputs": [],
      "source": [
        "i=1\n",
        "while i<=10:\n",
        "  print(i)\n",
        "  if i==5:\n",
        "    break\n",
        "  i=i+1\n",
        "print(\"Loop terminates\")\n"
      ]
    },
    {
      "cell_type": "code",
      "execution_count": null,
      "metadata": {
        "id": "qoxqobboLxfI"
      },
      "outputs": [],
      "source": [
        "for i in range(1,20,2):\n",
        "  print(i)\n",
        "  if(i==10):\n",
        "    break\n",
        "print(\"Loop terminates\")\n"
      ]
    },
    {
      "cell_type": "code",
      "execution_count": null,
      "metadata": {
        "id": "HHQ1VWNRNKfp"
      },
      "outputs": [],
      "source": [
        "i = 0\n",
        "while i < 10:\n",
        "    i += 1\n",
        "    if i % 3 == 0:\n",
        "        continue\n",
        "    print(i)"
      ]
    },
    {
      "cell_type": "code",
      "execution_count": null,
      "metadata": {
        "id": "F_wtFjtdPaGJ"
      },
      "outputs": [],
      "source": [
        "for i in range(0,10,1):\n",
        "  if(i%3)==0:\n",
        "    continue\n",
        "  print(i)"
      ]
    },
    {
      "cell_type": "code",
      "execution_count": null,
      "metadata": {
        "id": "nagxXVVRXKLT"
      },
      "outputs": [],
      "source": [
        "seq=[10,20,30,40,50]\n",
        "print(seq[-1])\n"
      ]
    },
    {
      "cell_type": "code",
      "execution_count": null,
      "metadata": {
        "id": "LFWEYZoBXcWp"
      },
      "outputs": [],
      "source": [
        "seq=[10,20,30,40,50]\n",
        "print(seq[1:3])"
      ]
    },
    {
      "cell_type": "code",
      "execution_count": null,
      "metadata": {
        "id": "bBzvuxBVYSyn"
      },
      "outputs": [],
      "source": [
        "seq=[10,20,30,40,50]\n",
        "print(seq[1:])"
      ]
    },
    {
      "cell_type": "code",
      "execution_count": null,
      "metadata": {
        "id": "n80f3nrIYX9X"
      },
      "outputs": [],
      "source": [
        "seq=[10,20,30,40,50]\n",
        "seq.append(60)\n",
        "print(seq)"
      ]
    },
    {
      "cell_type": "code",
      "execution_count": null,
      "metadata": {
        "id": "2GR0hcA1ZLLG"
      },
      "outputs": [],
      "source": [
        "seq=[10,20,30,40,50]\n",
        "seq[1]=60\n",
        "print(seq)"
      ]
    },
    {
      "cell_type": "code",
      "execution_count": null,
      "metadata": {
        "id": "o056DV23ZWKD"
      },
      "outputs": [],
      "source": [
        "seq=[10,20,30,40,50]\n",
        "del seq[1]\n",
        "print(seq)"
      ]
    },
    {
      "cell_type": "code",
      "execution_count": null,
      "metadata": {
        "id": "5eeEc8mqSw6c"
      },
      "outputs": [],
      "source": [
        "#List in built methods\n",
        "#Return a value but doesnt change the list\n",
        "seq=[10,20,30,40,50]\n",
        "seq.count(20)"
      ]
    },
    {
      "cell_type": "code",
      "execution_count": null,
      "metadata": {
        "id": "ya-2XANlS_5N"
      },
      "outputs": [],
      "source": [
        "seq=[10,20,30,40,50]\n",
        "seq.append(60)\n",
        "print(seq)"
      ]
    },
    {
      "cell_type": "code",
      "execution_count": null,
      "metadata": {
        "id": "AF8-QQ40TK6Y"
      },
      "outputs": [],
      "source": [
        "seq=[10,20,30,40,50,40]\n",
        "seq.count(40)"
      ]
    },
    {
      "cell_type": "code",
      "execution_count": null,
      "metadata": {
        "id": "_ycJHsHaTR8f"
      },
      "outputs": [],
      "source": [
        "seq=[10,20,30,40,50,40]\n",
        "seq.index(40)"
      ]
    },
    {
      "cell_type": "code",
      "execution_count": null,
      "metadata": {
        "id": "Pp_qK1zuUphA"
      },
      "outputs": [],
      "source": [
        "seq=[10,20,30,40,50,40]\n",
        "seq.index(40,4)"
      ]
    },
    {
      "cell_type": "code",
      "execution_count": null,
      "metadata": {
        "id": "CNrBQy_2VygS"
      },
      "outputs": [],
      "source": [
        "#Doesnt return any value but change the list\n",
        "#Extend is used to add more than one value in to the list\n",
        "seq=[10,20,30,40,50]\n",
        "seq.extend([60,70,80])\n",
        "print(seq)"
      ]
    },
    {
      "cell_type": "code",
      "execution_count": null,
      "metadata": {
        "id": "WSwQfcJbWptG"
      },
      "outputs": [],
      "source": [
        "#insert is used to add insert\n",
        "seq=[10,20,30,40,50]\n",
        "seq.insert(3,60)\n",
        "print(seq)"
      ]
    },
    {
      "cell_type": "code",
      "execution_count": null,
      "metadata": {
        "id": "DVP5ldadW_8J"
      },
      "outputs": [],
      "source": [
        "#Remove value from the list\n",
        "seq=[10,20,30,60,40,50]\n",
        "seq.remove(60)\n",
        "print(seq)"
      ]
    },
    {
      "cell_type": "code",
      "execution_count": null,
      "metadata": {
        "id": "lXP-rMJPXo7o"
      },
      "outputs": [],
      "source": [
        "#Reverse of the list\n",
        "seq=[10,20,30,40,50]\n",
        "seq.reverse()\n",
        "print(seq)"
      ]
    },
    {
      "cell_type": "code",
      "execution_count": null,
      "metadata": {
        "id": "4ZBWym7PXyl9"
      },
      "outputs": [],
      "source": [
        "#SORT is used to sort given element of the list\n",
        "seq=[10,20,30,10,40,50,10,20]\n",
        "seq.sort()\n",
        "print(seq)"
      ]
    },
    {
      "cell_type": "code",
      "execution_count": null,
      "metadata": {
        "id": "fJzl8V4jYEW4"
      },
      "outputs": [],
      "source": [
        "#POP removes last element of the list\n",
        "seq=[10,20,30,40,50,60]\n",
        "seq.pop()\n",
        "print(seq)"
      ]
    },
    {
      "cell_type": "code",
      "execution_count": null,
      "metadata": {
        "id": "m9uElNotaKv3"
      },
      "outputs": [],
      "source": [
        "#Length of the list\n",
        "len(seq)\n"
      ]
    },
    {
      "cell_type": "code",
      "execution_count": null,
      "metadata": {
        "id": "9xZwOv0sf2NY"
      },
      "outputs": [],
      "source": [
        "seq=input()\n"
      ]
    },
    {
      "cell_type": "code",
      "execution_count": null,
      "metadata": {
        "id": "zUTS1_9Ff-J9"
      },
      "outputs": [],
      "source": [
        "seq=input().split()\n",
        "print(seq)\n"
      ]
    },
    {
      "cell_type": "code",
      "execution_count": null,
      "metadata": {
        "id": "4jpclLNzFqKD"
      },
      "outputs": [],
      "source": [
        "square=[i**2 for i in range(1,6,1)]\n",
        "print(square)"
      ]
    },
    {
      "cell_type": "code",
      "execution_count": null,
      "metadata": {
        "id": "U1BAqkcuUihn"
      },
      "outputs": [],
      "source": [
        "List1=[1,2,3]\n",
        "List2=[4,5,6]\n",
        "Pair=[(x,y) for x in List1 for y in List2 if x!=y]\n",
        "print(Pair)"
      ]
    },
    {
      "cell_type": "code",
      "execution_count": null,
      "metadata": {
        "id": "hng9Xo2QEvac"
      },
      "outputs": [],
      "source": [
        "import math\n",
        "\n",
        "# Calculate the ceil value of 5.3\n",
        "print(math.ceil(5.3))\n",
        "\n",
        "# Calculate the square root of 16\n",
        "print(math.sqrt(16))\n",
        "\n",
        "# Calculate the power of 2 raised to the 3rd power\n",
        "print(math.pow(2, 3))\n",
        "\n",
        "# Calculate the largest of 3, 5, and 7\n",
        "print(max(3, 5, 7))\n",
        "\n",
        "# Calculate the smallest of 3, 5, and 7\n",
        "print(min(3, 5, 7))\n",
        "\n",
        "# Round 3.14159 to 2 decimal places\n",
        "print(round(3.14159, 2))\n",
        "\n",
        "# Calculate the floor value of 5.3\n",
        "print(math.floor(5.3))\n",
        "\n",
        "# Display value of pi\n",
        "print(math.pi)\n",
        "\n",
        "#Display value of exponent\n",
        "print(math.e)\n"
      ]
    },
    {
      "cell_type": "code",
      "execution_count": null,
      "metadata": {
        "id": "YnVA-QUAIrbl"
      },
      "outputs": [],
      "source": [
        "Emp={\"Name\":\"Bob\",\"Age\":39,\"Salary\":35000,\"City\":\"New York\"}\n",
        "print(Emp)\n"
      ]
    },
    {
      "cell_type": "code",
      "execution_count": null,
      "metadata": {
        "id": "GSDD40mpJEjd"
      },
      "outputs": [],
      "source": [
        "Emp[\"Designation\"]=\"Software Engineer\"\n",
        "print(Emp)\n"
      ]
    },
    {
      "cell_type": "code",
      "execution_count": null,
      "metadata": {
        "id": "N1Z0-ekdJOfS"
      },
      "outputs": [],
      "source": [
        "print(Emp[\"Salary\"])"
      ]
    },
    {
      "cell_type": "code",
      "execution_count": null,
      "metadata": {
        "id": "2ejxrj_5JXv_"
      },
      "outputs": [],
      "source": [
        "Emp[\"Salary\"]=55000\n",
        "print(Emp[\"Salary\"])"
      ]
    },
    {
      "cell_type": "markdown",
      "source": [
        "Conditional Statements:\n",
        "If\n",
        "If else\n",
        "if elif else\n",
        "Nested if"
      ],
      "metadata": {
        "id": "9hhsaDXDVSRx"
      }
    },
    {
      "cell_type": "code",
      "execution_count": null,
      "metadata": {
        "id": "peK83FTkBWK0"
      },
      "outputs": [],
      "source": [
        "a=int(input(\"Enter 1st number \"))\n",
        "b=int(input(\"Enter 2nd number \"))\n",
        "if a>b:\n",
        "\tprint(\"A is greater than B\")\n",
        "else:\n",
        "\tprint(\"B is greater than A\")"
      ]
    },
    {
      "cell_type": "code",
      "execution_count": null,
      "metadata": {
        "id": "ykgqvI6JBuvK"
      },
      "outputs": [],
      "source": [
        "age=int(input(\"Enter the age \"))\n",
        "if age>=18:\n",
        "  print(\"Candidate is eligible for voting\")\n",
        "else:\n",
        "  print(\"Candidate is not eligible for voting\")"
      ]
    },
    {
      "cell_type": "code",
      "execution_count": null,
      "metadata": {
        "id": "zzQDg4dTF-kL"
      },
      "outputs": [],
      "source": [
        "marks=int(input(\"Enter the marks:\"))\n",
        "if(marks>=90):\n",
        "  print(\"Grade A\")\n",
        "elif(marks>=80):\n",
        "  print(\"Grade B\")\n",
        "elif(marks>=70):\n",
        "  print(\"Grade C\")\n",
        "elif(marks>=60):\n",
        "  print(\"Grade D\")\n",
        "else:\n",
        "  print(\"Study Hard\")"
      ]
    },
    {
      "cell_type": "code",
      "execution_count": null,
      "metadata": {
        "id": "ixYDPcqnI1CQ"
      },
      "outputs": [],
      "source": [
        "age=int(input(\"Enter the age:\"))\n",
        "if(age<4):\n",
        "  print(\"Entry is free\")\n",
        "elif(age>=4&age<=16):\n",
        "  print(\"Entry fee is 100rs\")\n",
        "else:\n",
        "  print(\"Entry fee is 175rs\")"
      ]
    },
    {
      "cell_type": "code",
      "execution_count": null,
      "metadata": {
        "id": "exg_AJXxM2vP"
      },
      "outputs": [],
      "source": [
        "num=int(input(\"Enter the num \"))\n",
        "if(num%2==0):\n",
        "  print(\"Number is even\")\n",
        "else:\n",
        "  print(\"Number is odd\")"
      ]
    },
    {
      "cell_type": "code",
      "execution_count": null,
      "metadata": {
        "id": "lSYK6TwdPff2"
      },
      "outputs": [],
      "source": [
        "num=int(input(\"Enter the num \"))\n",
        "if(num%2!=0):\n",
        "  print(\"Number is odd\")\n",
        "else:\n",
        "  print(\"Number is even\")"
      ]
    },
    {
      "cell_type": "code",
      "execution_count": null,
      "metadata": {
        "id": "thXexFA6Rk3t"
      },
      "outputs": [],
      "source": [
        "sal=int(input(\"Enter the salary: \"))\n",
        "exp=int(input(\"Enter years of experince:\"))\n",
        "if(exp>=5):\n",
        "  sal=sal+sal*5/100\n",
        "  print(\"Salary:\",sal)\n",
        "\n"
      ]
    },
    {
      "cell_type": "code",
      "source": [
        "num=int(input(\"Enter the number:\"))\n",
        "if num>=0:\n",
        "  if num>0:\n",
        "    print(\"Num is +ve\")\n",
        "  else:\n",
        "    print(\"Num is equal to 0\")\n",
        "else:\n",
        "  print(\"No is negative\")\n"
      ],
      "metadata": {
        "id": "Nk0f9ZtZMaUk",
        "colab": {
          "base_uri": "https://localhost:8080/"
        },
        "outputId": "e0705640-9e3e-45cb-d68f-be5b600050be"
      },
      "execution_count": null,
      "outputs": [
        {
          "output_type": "stream",
          "name": "stdout",
          "text": [
            "Enter the number:0\n",
            "Num is equal to 0\n"
          ]
        }
      ]
    },
    {
      "cell_type": "markdown",
      "source": [
        "For Loop Examples"
      ],
      "metadata": {
        "id": "fsVr_QQnVI6D"
      }
    },
    {
      "cell_type": "code",
      "source": [
        "fruits=['Apple','Mango','Banana','Kiwi','Grapes']\n",
        "for i in fruits:\n",
        "  print(i)"
      ],
      "metadata": {
        "colab": {
          "base_uri": "https://localhost:8080/"
        },
        "id": "_qwoe7_qOkqo",
        "outputId": "23327487-1ec9-4fbf-ff56-49c48c8b37ca"
      },
      "execution_count": null,
      "outputs": [
        {
          "output_type": "stream",
          "name": "stdout",
          "text": [
            "Apple\n",
            "Mango\n",
            "Banana\n",
            "Kiwi\n",
            "Grapes\n"
          ]
        }
      ]
    },
    {
      "cell_type": "code",
      "source": [
        "for i in range(0,10,2):\n",
        "  print(i)"
      ],
      "metadata": {
        "colab": {
          "base_uri": "https://localhost:8080/"
        },
        "id": "lUYVx1GTaktv",
        "outputId": "5d6a9469-918c-4ada-990f-403f28365117"
      },
      "execution_count": null,
      "outputs": [
        {
          "output_type": "stream",
          "name": "stdout",
          "text": [
            "0\n",
            "2\n",
            "4\n",
            "6\n",
            "8\n"
          ]
        }
      ]
    },
    {
      "cell_type": "code",
      "source": [
        "for i in range(0,10,3):\n",
        "  print(i)"
      ],
      "metadata": {
        "colab": {
          "base_uri": "https://localhost:8080/"
        },
        "id": "AZToBqmxcKBO",
        "outputId": "4d48432e-cb19-4a11-d9d7-51f641954126"
      },
      "execution_count": null,
      "outputs": [
        {
          "output_type": "stream",
          "name": "stdout",
          "text": [
            "0\n",
            "3\n",
            "6\n",
            "9\n"
          ]
        }
      ]
    },
    {
      "cell_type": "code",
      "source": [
        "Num=[1,2,3,4,5,6,7,8,9,10]\n",
        "for i in Num:\n",
        "  if i%2==0:\n",
        "    print(i,end=' ')"
      ],
      "metadata": {
        "colab": {
          "base_uri": "https://localhost:8080/"
        },
        "id": "cQ6JkZIsc_dN",
        "outputId": "0e43e946-c776-45c2-9bc9-f70ce97b61d5"
      },
      "execution_count": null,
      "outputs": [
        {
          "output_type": "stream",
          "name": "stdout",
          "text": [
            "2 4 6 8 10 "
          ]
        }
      ]
    },
    {
      "cell_type": "code",
      "source": [
        "Num=[1,2,3,4,5,6,7,8,9,10]\n",
        "for i in Num:\n",
        "  if i%2!=0:\n",
        "    print(i,end=' ')"
      ],
      "metadata": {
        "colab": {
          "base_uri": "https://localhost:8080/"
        },
        "id": "SSIqeIhxfHgg",
        "outputId": "19a74259-6e46-4859-a179-127d1eedeb38"
      },
      "execution_count": null,
      "outputs": [
        {
          "output_type": "stream",
          "name": "stdout",
          "text": [
            "1 3 5 7 9 "
          ]
        }
      ]
    },
    {
      "cell_type": "markdown",
      "source": [
        "While Loop examples"
      ],
      "metadata": {
        "id": "1T9u5YbTVClt"
      }
    },
    {
      "cell_type": "code",
      "source": [
        "a=1\n",
        "while a<=20:\n",
        "  if a%2==0:\n",
        "    print(a,end=' ')\n",
        "  a=a+1\n"
      ],
      "metadata": {
        "id": "G4tQm_ahfbZU",
        "colab": {
          "base_uri": "https://localhost:8080/"
        },
        "outputId": "2b75b753-4818-4895-d082-be7224c4df77"
      },
      "execution_count": null,
      "outputs": [
        {
          "output_type": "stream",
          "name": "stdout",
          "text": [
            "2 4 6 8 10 12 14 16 18 20 "
          ]
        }
      ]
    },
    {
      "cell_type": "markdown",
      "source": [
        "Functions"
      ],
      "metadata": {
        "id": "qDwmFhJicKUL"
      }
    },
    {
      "cell_type": "code",
      "source": [
        "def employee(name,age,salary,city):\n",
        "  print(\"Name:\",name)\n",
        "  print(\"Age:\",age)\n",
        "  print(\"Salary:\",salary)\n",
        "  print(\"City:\",city)\n",
        "\n",
        "name = input(\"Enter Name: \")\n",
        "age = input(\"Enter Age: \")\n",
        "salary = input(\"Enter Salary: \")\n",
        "city = input(\"Enter City: \")\n",
        "employee(name,age,salary,city)"
      ],
      "metadata": {
        "colab": {
          "base_uri": "https://localhost:8080/"
        },
        "id": "XjQzLjbKcOlT",
        "outputId": "91f8dbae-0da3-42b0-cd83-9b39e843ab4e"
      },
      "execution_count": null,
      "outputs": [
        {
          "output_type": "stream",
          "name": "stdout",
          "text": [
            "Enter Name: Pratiksha\n",
            "Enter Age: 32\n",
            "Enter Salary: 100000\n",
            "Enter City: Pune\n",
            "Name: Pratiksha\n",
            "Age: 32\n",
            "Salary: 100000\n",
            "City: Pune\n"
          ]
        }
      ]
    }
  ],
  "metadata": {
    "colab": {
      "provenance": []
    },
    "kernelspec": {
      "display_name": "Python 3",
      "name": "python3"
    },
    "language_info": {
      "name": "python"
    }
  },
  "nbformat": 4,
  "nbformat_minor": 0
}