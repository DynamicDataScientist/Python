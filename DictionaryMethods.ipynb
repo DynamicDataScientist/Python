{
  "nbformat": 4,
  "nbformat_minor": 0,
  "metadata": {
    "colab": {
      "provenance": []
    },
    "kernelspec": {
      "name": "python3",
      "display_name": "Python 3"
    },
    "language_info": {
      "name": "python"
    }
  },
  "cells": [
    {
      "cell_type": "code",
      "execution_count": null,
      "metadata": {
        "colab": {
          "base_uri": "https://localhost:8080/"
        },
        "id": "ddgRFgS5645W",
        "outputId": "5b587a21-1364-4344-fc5e-29cb2902a389"
      },
      "outputs": [
        {
          "output_type": "stream",
          "name": "stdout",
          "text": [
            "{'brand': 'Ford', 'model': 'Mustang', 'year': 1964}\n"
          ]
        }
      ],
      "source": [
        "thisdict = {\n",
        "  \"brand\": \"Ford\",\n",
        "  \"model\": \"Mustang\",\n",
        "  \"year\": 1964\n",
        "}\n",
        "print(thisdict)"
      ]
    },
    {
      "cell_type": "code",
      "source": [
        "thisdict = {\n",
        "  \"brand\": \"Ford\",\n",
        "  \"model\": \"Mustang\",\n",
        "  \"year\": 1964\n",
        "}\n",
        "print(thisdict[\"brand\"])"
      ],
      "metadata": {
        "colab": {
          "base_uri": "https://localhost:8080/"
        },
        "id": "mRVnFqV5rrRc",
        "outputId": "2101d078-004e-4694-a14e-67f907708a79"
      },
      "execution_count": null,
      "outputs": [
        {
          "output_type": "stream",
          "name": "stdout",
          "text": [
            "Ford\n"
          ]
        }
      ]
    },
    {
      "cell_type": "markdown",
      "source": [
        "Duplication not allowed"
      ],
      "metadata": {
        "id": "J5nSQpVNsOva"
      }
    },
    {
      "cell_type": "code",
      "source": [
        "thisdict = {\n",
        "  \"brand\": \"Ford\",\n",
        "  \"model\": \"Mustang\",\n",
        "  \"year\": 1964,\n",
        "  \"year\": 2020\n",
        "}\n",
        "print(thisdict)"
      ],
      "metadata": {
        "colab": {
          "base_uri": "https://localhost:8080/"
        },
        "id": "6mCc25N7sNkA",
        "outputId": "c0c2acef-62f2-4096-816b-9ef3434f730c"
      },
      "execution_count": null,
      "outputs": [
        {
          "output_type": "stream",
          "name": "stdout",
          "text": [
            "{'brand': 'Ford', 'model': 'Mustang', 'year': 2020}\n"
          ]
        }
      ]
    },
    {
      "cell_type": "markdown",
      "source": [
        "Create a dictionary for car and add color as key with white"
      ],
      "metadata": {
        "id": "7Y-caJdu_HYa"
      }
    },
    {
      "cell_type": "code",
      "source": [
        "car = {\n",
        "\"brand\": \"Ford\",\n",
        "\"model\": \"Mustang\",\n",
        "\"year\": 1964\n",
        "}\n",
        "x = car.keys()\n",
        "y = car.values()\n",
        "print(x) #before the change\n",
        "print(y)\n",
        "car[\"color\"] = \"white\"\n",
        "print(x) #after the change\n",
        "print(y)\n",
        "item=car.items()\n",
        "print(item)\n",
        "print(\"Dictionary as:\",car)"
      ],
      "metadata": {
        "colab": {
          "base_uri": "https://localhost:8080/"
        },
        "id": "26dYdbJZ--t5",
        "outputId": "fe0f3ca8-b7bd-40d2-df37-85188aa4cf34"
      },
      "execution_count": null,
      "outputs": [
        {
          "output_type": "stream",
          "name": "stdout",
          "text": [
            "dict_keys(['brand', 'model', 'year'])\n",
            "dict_values(['Ford', 'Mustang', 1964])\n",
            "dict_keys(['brand', 'model', 'year', 'color'])\n",
            "dict_values(['Ford', 'Mustang', 1964, 'white'])\n",
            "dict_items([('brand', 'Ford'), ('model', 'Mustang'), ('year', 1964), ('color', 'white')])\n",
            "Dictionary as: {'brand': 'Ford', 'model': 'Mustang', 'year': 1964, 'color': 'white'}\n"
          ]
        }
      ]
    },
    {
      "cell_type": "markdown",
      "source": [
        "Add a new item to the original dictionary, and see that the items list gets updated as well:"
      ],
      "metadata": {
        "id": "MXfUUNlwBBpU"
      }
    },
    {
      "cell_type": "code",
      "source": [
        "car = {\n",
        "\"brand\": \"Ford\",\n",
        "\"model\": \"Mustang\",\n",
        "\"year\": 1964\n",
        "}\n",
        "\n",
        "x = car.items()\n",
        "\n",
        "print(x) #before the change\n",
        "\n",
        "car[\"color\"] = \"red\"\n",
        "\n",
        "print(x) #after the change"
      ],
      "metadata": {
        "colab": {
          "base_uri": "https://localhost:8080/"
        },
        "id": "lIT5hkuxA80h",
        "outputId": "96433c85-f1c6-49ca-c482-b443662aec86"
      },
      "execution_count": null,
      "outputs": [
        {
          "output_type": "stream",
          "name": "stdout",
          "text": [
            "dict_items([('brand', 'Ford'), ('model', 'Mustang'), ('year', 1964)])\n",
            "dict_items([('brand', 'Ford'), ('model', 'Mustang'), ('year', 1964), ('color', 'red')])\n"
          ]
        }
      ]
    },
    {
      "cell_type": "markdown",
      "source": [
        "check if model is present in the key"
      ],
      "metadata": {
        "id": "Fy1SgkaaBhZg"
      }
    },
    {
      "cell_type": "code",
      "source": [
        "car = {\n",
        "\"brand\": \"Ford\",\n",
        "\"model\": \"Mustang\",\n",
        "\"year\": 1964\n",
        "}\n",
        "if \"model\" in car:\n",
        "  print(\"Yes, 'model' is one of the keys in the car dictionary\")\n",
        "else:\n",
        "  print(\"No, 'model' is not one of the keys in the car dictionary\")"
      ],
      "metadata": {
        "colab": {
          "base_uri": "https://localhost:8080/"
        },
        "id": "lRTtZV9uBmFu",
        "outputId": "95a95d1c-e173-44b0-f6e8-7c43e4da85e6"
      },
      "execution_count": null,
      "outputs": [
        {
          "output_type": "stream",
          "name": "stdout",
          "text": [
            "Yes, 'model' is one of the keys in the car dictionary\n"
          ]
        }
      ]
    },
    {
      "cell_type": "markdown",
      "source": [
        "Change year to 2024"
      ],
      "metadata": {
        "id": "SZMZUkmXB-G2"
      }
    },
    {
      "cell_type": "code",
      "source": [
        "car = {\n",
        "\"brand\": \"Ford\",\n",
        "\"model\": \"Mustang\",\n",
        "\"year\": 1964\n",
        "}\n",
        "car[\"year\"]=2024\n",
        "print(car)"
      ],
      "metadata": {
        "colab": {
          "base_uri": "https://localhost:8080/"
        },
        "id": "gjWmIrJ2CAmj",
        "outputId": "545ec8cb-f92a-439e-c66b-a5e92e9b0e8b"
      },
      "execution_count": null,
      "outputs": [
        {
          "output_type": "stream",
          "name": "stdout",
          "text": [
            "{'brand': 'Ford', 'model': 'Mustang', 'year': 2024}\n"
          ]
        }
      ]
    },
    {
      "cell_type": "markdown",
      "source": [
        "Change the year by using update moethod"
      ],
      "metadata": {
        "id": "6eIvC2neCTuo"
      }
    },
    {
      "cell_type": "code",
      "source": [
        "car = {\n",
        "\"brand\": \"Ford\",\n",
        "\"model\": \"Mustang\",\n",
        "\"year\": 1964\n",
        "}\n",
        "car.update({\"year\":2024})\n",
        "print(car)"
      ],
      "metadata": {
        "colab": {
          "base_uri": "https://localhost:8080/"
        },
        "id": "wsEfMLlmCWYj",
        "outputId": "1bb76b3d-917e-4d37-a434-37c9328a3f42"
      },
      "execution_count": null,
      "outputs": [
        {
          "output_type": "stream",
          "name": "stdout",
          "text": [
            "{'brand': 'Ford', 'model': 'Mustang', 'year': 2024}\n"
          ]
        }
      ]
    },
    {
      "cell_type": "markdown",
      "source": [
        "Add new key value pair in existing car dictionary"
      ],
      "metadata": {
        "id": "k9FThLEUCw67"
      }
    },
    {
      "cell_type": "code",
      "source": [
        "car = {\n",
        "\"brand\": \"Ford\",\n",
        "\"model\": \"Mustang\",\n",
        "\"year\": 1964\n",
        "}\n",
        "car[\"color\"]=\"Black\"\n",
        "print(car)"
      ],
      "metadata": {
        "colab": {
          "base_uri": "https://localhost:8080/"
        },
        "id": "TvsEpFK4C1g4",
        "outputId": "b5a230ab-eced-4773-8c33-25dd8094128d"
      },
      "execution_count": null,
      "outputs": [
        {
          "output_type": "stream",
          "name": "stdout",
          "text": [
            "{'brand': 'Ford', 'model': 'Mustang', 'year': 1964, 'color': 'Black'}\n"
          ]
        }
      ]
    },
    {
      "cell_type": "markdown",
      "source": [
        "Remove model from car dict"
      ],
      "metadata": {
        "id": "vlCbelCNDOvC"
      }
    },
    {
      "cell_type": "code",
      "source": [
        "car = {\n",
        "\"brand\": \"Ford\",\n",
        "\"model\": \"Mustang\",\n",
        "\"year\": 1964,\"color\":\"Black\"\n",
        "}\n",
        "car.pop(\"model\")\n",
        "print(car)"
      ],
      "metadata": {
        "colab": {
          "base_uri": "https://localhost:8080/"
        },
        "id": "CLv3RMUCDRbH",
        "outputId": "f45912d4-ca9a-4e65-9889-f1f25e3463fd"
      },
      "execution_count": null,
      "outputs": [
        {
          "output_type": "stream",
          "name": "stdout",
          "text": [
            "{'brand': 'Ford', 'year': 1964, 'color': 'Black'}\n"
          ]
        }
      ]
    },
    {
      "cell_type": "markdown",
      "source": [
        "Remove item from car dict"
      ],
      "metadata": {
        "id": "r34p4jSrD4Tk"
      }
    },
    {
      "cell_type": "code",
      "source": [
        "car = {\n",
        "\"brand\": \"Ford\",\n",
        "\"model\": \"Mustang\",\n",
        "\"year\": 1964,\n",
        "\"color\":\"Black\"\n",
        "}\n",
        "car.popitem()\n",
        "print(car)"
      ],
      "metadata": {
        "colab": {
          "base_uri": "https://localhost:8080/"
        },
        "id": "qH1Lb9-DD7cy",
        "outputId": "48e980f1-0431-4062-da7a-68c5a2f99d8d"
      },
      "execution_count": null,
      "outputs": [
        {
          "output_type": "stream",
          "name": "stdout",
          "text": [
            "{'brand': 'Ford', 'model': 'Mustang', 'year': 1964}\n"
          ]
        }
      ]
    },
    {
      "cell_type": "markdown",
      "source": [
        "\n",
        "The del keyword removes the item with the specified key name"
      ],
      "metadata": {
        "id": "MrIHFCWCEW-K"
      }
    },
    {
      "cell_type": "code",
      "source": [
        "car = {\n",
        "\"brand\": \"Ford\",\n",
        "\"model\": \"Mustang\",\n",
        "\"year\": 1964,\n",
        "\"color\":\"Black\"\n",
        "}\n",
        "del car[\"model\"]\n",
        "print(car)"
      ],
      "metadata": {
        "colab": {
          "base_uri": "https://localhost:8080/"
        },
        "id": "yvHCC9gAEeRZ",
        "outputId": "ba4c4c22-d5af-47f3-ccc8-f6875f6e9ad2"
      },
      "execution_count": null,
      "outputs": [
        {
          "output_type": "stream",
          "name": "stdout",
          "text": [
            "{'brand': 'Ford', 'year': 1964, 'color': 'Black'}\n"
          ]
        }
      ]
    },
    {
      "cell_type": "markdown",
      "source": [
        "The clear() method empties the dictionary:"
      ],
      "metadata": {
        "id": "ldnVw40JEnF4"
      }
    },
    {
      "cell_type": "code",
      "source": [
        "car = {\n",
        "\"brand\": \"Ford\",\n",
        "\"model\": \"Mustang\",\n",
        "\"year\": 1964,\n",
        "\"color\":\"Black\"\n",
        "}\n",
        "car.clear()\n",
        "print(car)"
      ],
      "metadata": {
        "colab": {
          "base_uri": "https://localhost:8080/"
        },
        "id": "cuLzz-iIEq-x",
        "outputId": "6c47508b-dfa1-4f9d-f721-b6cb30ba1f5f"
      },
      "execution_count": null,
      "outputs": [
        {
          "output_type": "stream",
          "name": "stdout",
          "text": [
            "{}\n"
          ]
        }
      ]
    },
    {
      "cell_type": "markdown",
      "source": [
        "Display key of dictionary by using for loop"
      ],
      "metadata": {
        "id": "q1vw_JkLFNi6"
      }
    },
    {
      "cell_type": "code",
      "source": [
        "car = {\n",
        "\"brand\": \"Ford\",\n",
        "\"model\": \"Mustang\",\n",
        "\"year\": 1964,\n",
        "\"color\":\"Black\"\n",
        "}\n",
        "for i in car:\n",
        "  print(i)\n",
        "for i in car.keys():#this is anothey way to display keys of the dictionary\n",
        "  print(\"By using in built method\",i)"
      ],
      "metadata": {
        "colab": {
          "base_uri": "https://localhost:8080/"
        },
        "id": "iALuzfCbFShR",
        "outputId": "837b818b-bbd6-4992-a616-8fb2200b9430"
      },
      "execution_count": null,
      "outputs": [
        {
          "output_type": "stream",
          "name": "stdout",
          "text": [
            "brand\n",
            "model\n",
            "year\n",
            "color\n",
            "By using in built method brand\n",
            "By using in built method model\n",
            "By using in built method year\n",
            "By using in built method color\n"
          ]
        }
      ]
    },
    {
      "cell_type": "markdown",
      "source": [
        "Display values of dictionary by using for loop"
      ],
      "metadata": {
        "id": "8Jdw1Ya0FaTu"
      }
    },
    {
      "cell_type": "code",
      "source": [
        "car = {\n",
        "\"brand\": \"Ford\",\n",
        "\"model\": \"Mustang\",\n",
        "\"year\": 1964,\n",
        "\"color\":\"Black\"\n",
        "}\n",
        "for i in car:\n",
        "  print(car[i])\n",
        "for i in car.values():#this is anothey way to display values of the dictionary\n",
        "  print(\"By using in built method:\",i)"
      ],
      "metadata": {
        "colab": {
          "base_uri": "https://localhost:8080/"
        },
        "id": "M2WC1rZbFe_f",
        "outputId": "36da8fb9-c16b-43c2-ce76-a6094f608f64"
      },
      "execution_count": null,
      "outputs": [
        {
          "output_type": "stream",
          "name": "stdout",
          "text": [
            "Ford\n",
            "Mustang\n",
            "1964\n",
            "Black\n",
            "By using in built method: Ford\n",
            "By using in built method: Mustang\n",
            "By using in built method: 1964\n",
            "By using in built method: Black\n"
          ]
        }
      ]
    },
    {
      "cell_type": "markdown",
      "source": [
        "Make a copy of car dictionary"
      ],
      "metadata": {
        "id": "t6gbuYUDGb2s"
      }
    },
    {
      "cell_type": "code",
      "source": [
        "car = {\n",
        "\"brand\": \"Ford\",\n",
        "\"model\": \"Mustang\",\n",
        "\"year\": 1964,\n",
        "\"color\":\"Black\"\n",
        "}\n",
        "car1=car.copy()\n",
        "print(car1)\n",
        "car1=dict(car)#this is in built method to copy dict\n",
        "print(car1)"
      ],
      "metadata": {
        "colab": {
          "base_uri": "https://localhost:8080/"
        },
        "id": "HTs4qOXeGR1C",
        "outputId": "0cc43d2d-ab28-4028-e84e-bd92f6fdcd6b"
      },
      "execution_count": null,
      "outputs": [
        {
          "output_type": "stream",
          "name": "stdout",
          "text": [
            "{'brand': 'Ford', 'model': 'Mustang', 'year': 1964, 'color': 'Black'}\n",
            "{'brand': 'Ford', 'model': 'Mustang', 'year': 1964, 'color': 'Black'}\n"
          ]
        }
      ]
    },
    {
      "cell_type": "markdown",
      "source": [
        "Create a dictionary that contain 3 different dict"
      ],
      "metadata": {
        "id": "Guv0Zt4uG960"
      }
    },
    {
      "cell_type": "code",
      "source": [
        "car = { \"car1\":\n",
        " {\n",
        "\"brand\": \"Ford\",\n",
        "\"model\": \"Mustang\",\n",
        "\"year\": 1964,\n",
        "\"color\":\"Black\"\n",
        "}, \"car2\":\n",
        " {\n",
        "\"brand\": \"Toyoto\",\n",
        "\"model\": \"Innova\",\n",
        "\"year\": 2023,\n",
        "\"color\":\"Silver\"\n",
        "}, \"car3\":\n",
        "{\n",
        "\"brand\": \"Audi\",\n",
        "\"model\": \"A4\",\n",
        "\"year\": 2020,\n",
        "\"color\":\"Brown\"\n",
        "}\n",
        "}\n",
        "print(car)"
      ],
      "metadata": {
        "colab": {
          "base_uri": "https://localhost:8080/"
        },
        "id": "VIPIH28qGysd",
        "outputId": "694e5cab-9615-41bf-b037-b030081f5607"
      },
      "execution_count": null,
      "outputs": [
        {
          "output_type": "stream",
          "name": "stdout",
          "text": [
            "{'car1': {'brand': 'Ford', 'model': 'Mustang', 'year': 1964, 'color': 'Black'}, 'car2': {'brand': 'Toyoto', 'model': 'Innova', 'year': 2023, 'color': 'Silver'}, 'car3': {'brand': 'Audi', 'model': 'A4', 'year': 2020, 'color': 'Brown'}}\n"
          ]
        }
      ]
    }
  ]
}