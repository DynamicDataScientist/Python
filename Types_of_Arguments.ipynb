{
  "nbformat": 4,
  "nbformat_minor": 0,
  "metadata": {
    "colab": {
      "provenance": []
    },
    "kernelspec": {
      "name": "python3",
      "display_name": "Python 3"
    },
    "language_info": {
      "name": "python"
    }
  },
  "cells": [
    {
      "cell_type": "markdown",
      "source": [
        "Types of arguments:\n",
        "1. Positional Arguments\n",
        "2. Default Arguments\n",
        "3. Arbitary Arguments\n",
        "4. Keywords arguments\n",
        "5. Arbitary keywords arguments"
      ],
      "metadata": {
        "id": "r54BlHvYHhMG"
      }
    },
    {
      "cell_type": "markdown",
      "source": [
        "Positional Arguments"
      ],
      "metadata": {
        "id": "83Ys5KTIHx1O"
      }
    },
    {
      "cell_type": "code",
      "source": [
        "def name(firstname,lastname):\n",
        "    print(\"Your first name is \",firstname,\"And last name is \",lastname)"
      ],
      "metadata": {
        "id": "jYTdE3nnHf5L"
      },
      "execution_count": 4,
      "outputs": []
    },
    {
      "cell_type": "code",
      "source": [
        "name(\"Pratiksha\",\"Suryawanshi\")"
      ],
      "metadata": {
        "colab": {
          "base_uri": "https://localhost:8080/"
        },
        "id": "dXda5CrwILd8",
        "outputId": "657dc66a-7d61-42e7-9d85-d0cefc81325e"
      },
      "execution_count": 5,
      "outputs": [
        {
          "output_type": "stream",
          "name": "stdout",
          "text": [
            "Your first name is  Pratiksha And last name is  Suryawanshi\n"
          ]
        }
      ]
    },
    {
      "cell_type": "markdown",
      "source": [
        "Default Arguments"
      ],
      "metadata": {
        "id": "hJH54R-sIwQm"
      }
    },
    {
      "cell_type": "code",
      "source": [
        "def greet(name,message=\"Good Morning\"):\n",
        "    print(message,name)"
      ],
      "metadata": {
        "id": "vHYDzkN9Iy9h"
      },
      "execution_count": 15,
      "outputs": []
    },
    {
      "cell_type": "code",
      "source": [
        "greet(\"Pratiksha\")"
      ],
      "metadata": {
        "colab": {
          "base_uri": "https://localhost:8080/"
        },
        "id": "Kni0zLl1I_2c",
        "outputId": "f28edc65-1130-4d58-e353-9806311f125d"
      },
      "execution_count": 16,
      "outputs": [
        {
          "output_type": "stream",
          "name": "stdout",
          "text": [
            "Good Morning Pratiksha\n"
          ]
        }
      ]
    },
    {
      "cell_type": "code",
      "source": [
        "greet(\"Pratiksha\",\"Hi how r u?\")"
      ],
      "metadata": {
        "colab": {
          "base_uri": "https://localhost:8080/"
        },
        "id": "1615NDiPPy_z",
        "outputId": "4b7db408-d753-42da-b8a2-74e50c690cd0"
      },
      "execution_count": 17,
      "outputs": [
        {
          "output_type": "stream",
          "name": "stdout",
          "text": [
            "Hi how r u? Pratiksha\n"
          ]
        }
      ]
    },
    {
      "cell_type": "code",
      "source": [
        "def employee(name,salary=90000):\n",
        "    print(name,\"-->\",salary)"
      ],
      "metadata": {
        "id": "7etXWn6CQj-y"
      },
      "execution_count": 18,
      "outputs": []
    },
    {
      "cell_type": "code",
      "source": [
        "employee(\"Pratiksha\")"
      ],
      "metadata": {
        "colab": {
          "base_uri": "https://localhost:8080/"
        },
        "id": "XoV49QF3QxVB",
        "outputId": "2fdb018b-1d3d-409c-b0da-6f89434b42f2"
      },
      "execution_count": 21,
      "outputs": [
        {
          "output_type": "stream",
          "name": "stdout",
          "text": [
            "Pratiksha --> 90000\n"
          ]
        }
      ]
    },
    {
      "cell_type": "code",
      "source": [
        "employee(\"Pratiksha\",80000)"
      ],
      "metadata": {
        "colab": {
          "base_uri": "https://localhost:8080/"
        },
        "id": "nzRZrNpyQ398",
        "outputId": "0f424224-9245-4d71-8579-cc16799ba81a"
      },
      "execution_count": 22,
      "outputs": [
        {
          "output_type": "stream",
          "name": "stdout",
          "text": [
            "Pratiksha --> 80000\n"
          ]
        }
      ]
    },
    {
      "cell_type": "markdown",
      "source": [
        "Keyword Arguments"
      ],
      "metadata": {
        "id": "MK_0ygWbRU-D"
      }
    },
    {
      "cell_type": "code",
      "source": [
        "def greet(name,age,message):\n",
        "  print(message,name,\"Your age is \",age)"
      ],
      "metadata": {
        "id": "Y6MlILuEReTp"
      },
      "execution_count": 23,
      "outputs": []
    },
    {
      "cell_type": "code",
      "source": [
        "greet(\"Pratiksha\",21,\"Hi how r u?\")"
      ],
      "metadata": {
        "colab": {
          "base_uri": "https://localhost:8080/"
        },
        "id": "mN3IBR-6Ue7V",
        "outputId": "63d95e2b-7762-48c0-e11c-86bb4ef52856"
      },
      "execution_count": 25,
      "outputs": [
        {
          "output_type": "stream",
          "name": "stdout",
          "text": [
            "Hi how r u? Pratiksha Your age is  21\n"
          ]
        }
      ]
    },
    {
      "cell_type": "code",
      "source": [
        "greet(message=\"Hi good evening\",name=\"pratiksha\",age=21)"
      ],
      "metadata": {
        "colab": {
          "base_uri": "https://localhost:8080/"
        },
        "id": "A6jAMvjuUous",
        "outputId": "01f557b7-e904-4283-c8d1-1c172599bd7e"
      },
      "execution_count": 27,
      "outputs": [
        {
          "output_type": "stream",
          "name": "stdout",
          "text": [
            "Hi good evening pratiksha Your age is  21\n"
          ]
        }
      ]
    },
    {
      "cell_type": "markdown",
      "source": [
        "Arbitary agruments: represented as **args\n",
        "defualt type is tuple"
      ],
      "metadata": {
        "id": "XTzTXBIzVFuE"
      }
    },
    {
      "cell_type": "code",
      "execution_count": 28,
      "metadata": {
        "id": "bMfN9SPwLZem"
      },
      "outputs": [],
      "source": [
        "def function(a,b,*args):#syntax of arbitary argument\n",
        "    print(a)\n",
        "    print(b)\n",
        "    print(args)"
      ]
    },
    {
      "cell_type": "code",
      "source": [
        "function(5,7,567890)"
      ],
      "metadata": {
        "colab": {
          "base_uri": "https://localhost:8080/"
        },
        "id": "eqRgt9eYLocd",
        "outputId": "9354b031-4294-4139-ef69-ef3225948fdd"
      },
      "execution_count": 30,
      "outputs": [
        {
          "output_type": "stream",
          "name": "stdout",
          "text": [
            "5\n",
            "7\n",
            "(567890,)\n"
          ]
        }
      ]
    },
    {
      "cell_type": "code",
      "source": [
        "def display(*args):\n",
        "    print(type(args))\n",
        "    print(args)\n",
        "\n",
        "    sum=0\n",
        "    for i in args:\n",
        "        sum=sum+i\n",
        "    print(\"Sum is \",sum)"
      ],
      "metadata": {
        "id": "6sem-H4mVsYX"
      },
      "execution_count": 31,
      "outputs": []
    },
    {
      "cell_type": "code",
      "source": [
        "display(23,45,345,777)"
      ],
      "metadata": {
        "colab": {
          "base_uri": "https://localhost:8080/"
        },
        "id": "MmulqbWwV0V-",
        "outputId": "f5f31034-f347-431a-dbd6-d535dbdb0f5e"
      },
      "execution_count": 33,
      "outputs": [
        {
          "output_type": "stream",
          "name": "stdout",
          "text": [
            "<class 'tuple'>\n",
            "(23, 45, 345, 777)\n",
            "Sum is  1190\n"
          ]
        }
      ]
    },
    {
      "cell_type": "markdown",
      "source": [
        "Arbitary keyword arguments: it is represented as **kwargs.\n",
        "default type is Dictionary"
      ],
      "metadata": {
        "id": "p28YOlAMPbqS"
      }
    },
    {
      "cell_type": "code",
      "source": [
        "def display(**kwargs):\n",
        "    print(type(kwargs))\n",
        "    print(kwargs)\n",
        "\n",
        "    for key,value in kwargs.items():\n",
        "        print(key,\"-->\",value)"
      ],
      "metadata": {
        "id": "xd3nDE-kPYx0"
      },
      "execution_count": null,
      "outputs": []
    },
    {
      "cell_type": "code",
      "source": [
        "display(Name=\"Pratiksha\",Address=\"Pune\",Age=\"99\")"
      ],
      "metadata": {
        "colab": {
          "base_uri": "https://localhost:8080/"
        },
        "id": "7G_wvqH-Pv-K",
        "outputId": "0387317a-89bc-4a58-cb93-bee4bd64dbab"
      },
      "execution_count": null,
      "outputs": [
        {
          "output_type": "stream",
          "name": "stdout",
          "text": [
            "<class 'dict'>\n",
            "{'Name': 'Pratiksha', 'Address': 'Pune', 'Age': '99'}\n",
            "Name --> Pratiksha\n",
            "Address --> Pune\n",
            "Age --> 99\n"
          ]
        }
      ]
    }
  ]
}